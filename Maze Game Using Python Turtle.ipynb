{
 "cells": [
  {
   "cell_type": "code",
   "execution_count": 9,
   "metadata": {},
   "outputs": [],
   "source": [
    "from turtle import *\n",
    "from random import random\n",
    "from freegames import line"
   ]
  },
  {
   "cell_type": "code",
   "execution_count": 10,
   "metadata": {},
   "outputs": [],
   "source": [
    "def draw():\n",
    "    \"Draw Maze\"\n",
    "    color('black')\n",
    "    width(5)\n",
    "    for x in range(-200,200,40):\n",
    "        for y in range(-200,200,40):\n",
    "            if random()>0.5:\n",
    "                line(x,y,x+40,y+40)\n",
    "            else:\n",
    "                line(x,y+40,x+40,y)\n",
    "    update()\n",
    "\n",
    "    \n",
    "def tap(x,y):\n",
    "    \"Draw Line and Dot for screen tap. \"\n",
    "    if abs(x)>198 or abs(y)>198:\n",
    "        up()\n",
    "    else:\n",
    "        down()\n",
    "    width(2)\n",
    "    color('red')\n",
    "    goto(x,y)\n",
    "    dot(4)\n",
    "\n",
    "setup(420,420,370,0)\n",
    "hideturtle()\n",
    "tracer(False)\n",
    "draw()\n",
    "onscreenclick(tap)\n",
    "done()\n"
   ]
  },
  {
   "cell_type": "code",
   "execution_count": null,
   "metadata": {},
   "outputs": [],
   "source": []
  }
 ],
 "metadata": {
  "kernelspec": {
   "display_name": "Python 3",
   "language": "python",
   "name": "python3"
  },
  "language_info": {
   "codemirror_mode": {
    "name": "ipython",
    "version": 3
   },
   "file_extension": ".py",
   "mimetype": "text/x-python",
   "name": "python",
   "nbconvert_exporter": "python",
   "pygments_lexer": "ipython3",
   "version": "3.7.3"
  }
 },
 "nbformat": 4,
 "nbformat_minor": 2
}
